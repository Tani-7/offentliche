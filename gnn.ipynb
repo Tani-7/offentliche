{
 "cells": [
  {
   "cell_type": "markdown",
   "id": "d896be7b",
   "metadata": {},
   "source": [
    "# **Undirected Graphs Review**"
   ]
  },
  {
   "cell_type": "markdown",
   "id": "de710ad5",
   "metadata": {},
   "source": [
    "## Abhängigkeiten"
   ]
  },
  {
   "cell_type": "code",
   "execution_count": 3,
   "id": "966f8f19",
   "metadata": {},
   "outputs": [],
   "source": [
    "import networkx as nx \n",
    "import matplotlib.pyplot as plt"
   ]
  },
  {
   "cell_type": "code",
   "execution_count": 4,
   "id": "ceeafef6",
   "metadata": {},
   "outputs": [
    {
     "name": "stderr",
     "output_type": "stream",
     "text": [
      "/home/tanisaba/offentliche/.venv/lib/python3.12/site-packages/networkx/drawing/nx_pylab.py:1438: UserWarning: No data for colormapping provided via 'c'. Parameters 'cmap' will be ignored\n",
      "  node_collection = ax.scatter(\n"
     ]
    },
    {
     "data": {
      "image/png": "[encoded data removed]",
      "text/plain": [
       "<Figure size 640x480 with 1 Axes>"
      ]
     },
     "metadata": {},
     "output_type": "display_data"
    }
   ],
   "source": [
    "G = nx.Graph()\n",
    "G.add_edges_from([('A', 'B'), ('A', 'C'), ('B', 'D'), ('B', 'E'), ('C', 'F'), ('C', 'G')])\n",
    "\n",
    "plt.axis('off')\n",
    "nx.draw_networkx(G,\n",
    "                 pos=nx.spring_layout(G, seed=0),\n",
    "                 node_size=600,\n",
    "                 cmap='coolwarm',\n",
    "                 font_size=14,\n",
    "                 font_color='white'\n",
    "                 )"
   ]
  },
  {
   "cell_type": "code",
   "execution_count": null,
   "id": "7d25b3f5",
   "metadata": {},
   "outputs": [
    {
     "ename": "NameError",
     "evalue": "name 'WG' is not defined",
     "output_type": "error",
     "traceback": [
      "\u001b[31m---------------------------------------------------------------------------\u001b[39m",
      "\u001b[31mNameError\u001b[39m                                 Traceback (most recent call last)",
      "\u001b[36mCell\u001b[39m\u001b[36m \u001b[39m\u001b[32mIn[8]\u001b[39m\u001b[32m, line 7\u001b[39m\n\u001b[32m      2\u001b[39m \u001b[38;5;66;03m#DG.add_edges_from([('A', 'B'), ('A', 'C'), ('B', 'D'), ('B', 'E'), ('C', 'F'), ('C', 'G')])\u001b[39;00m\n\u001b[32m      4\u001b[39m DG.add_edges_from([(\u001b[33m'\u001b[39m\u001b[33mA\u001b[39m\u001b[33m'\u001b[39m, \u001b[33m'\u001b[39m\u001b[33mB\u001b[39m\u001b[33m'\u001b[39m, {\u001b[33m\"\u001b[39m\u001b[33mweight\u001b[39m\u001b[33m\"\u001b[39m: \u001b[32m10\u001b[39m}), (\u001b[33m'\u001b[39m\u001b[33mA\u001b[39m\u001b[33m'\u001b[39m, \u001b[33m'\u001b[39m\u001b[33mC\u001b[39m\u001b[33m'\u001b[39m, {\u001b[33m\"\u001b[39m\u001b[33mweight\u001b[39m\u001b[33m\"\u001b[39m: \u001b[32m20\u001b[39m}), (\u001b[33m'\u001b[39m\u001b[33mB\u001b[39m\u001b[33m'\u001b[39m, \u001b[33m'\u001b[39m\u001b[33mD\u001b[39m\u001b[33m'\u001b[39m, {\u001b[33m\"\u001b[39m\u001b[33mweight\u001b[39m\u001b[33m\"\u001b[39m: \u001b[32m30\u001b[39m}), (\u001b[33m'\u001b[39m\u001b[33mB\u001b[39m\u001b[33m'\u001b[39m, \u001b[33m'\u001b[39m\u001b[33mE\u001b[39m\u001b[33m'\u001b[39m, {\u001b[33m\"\u001b[39m\u001b[33mweight\u001b[39m\u001b[33m\"\u001b[39m: \u001b[32m40\u001b[39m}), (\u001b[33m'\u001b[39m\u001b[33mC\u001b[39m\u001b[33m'\u001b[39m, \u001b[33m'\u001b[39m\u001b[33mF\u001b[39m\u001b[33m'\u001b[39m, {\u001b[33m\"\u001b[39m\u001b[33mweight\u001b[39m\u001b[33m\"\u001b[39m: \u001b[32m50\u001b[39m}), (\u001b[33m'\u001b[39m\u001b[33mC\u001b[39m\u001b[33m'\u001b[39m, \u001b[33m'\u001b[39m\u001b[33mG\u001b[39m\u001b[33m'\u001b[39m, {\u001b[33m\"\u001b[39m\u001b[33mweight\u001b[39m\u001b[33m\"\u001b[39m: \u001b[32m60\u001b[39m})])\n\u001b[32m----> \u001b[39m\u001b[32m7\u001b[39m labels = nx.get_edge_attributes(\u001b[43mWG\u001b[49m, \u001b[33m\"\u001b[39m\u001b[33mweight\u001b[39m\u001b[33m\"\u001b[39m)\n\u001b[32m      8\u001b[39m plt.axis(\u001b[33m'\u001b[39m\u001b[33moff\u001b[39m\u001b[33m'\u001b[39m)\n\u001b[32m      9\u001b[39m nx.draw_networkx(DG,\n\u001b[32m     10\u001b[39m                  pos=nx.spring_layout(G, seed=\u001b[32m0\u001b[39m),\n\u001b[32m     11\u001b[39m                  node_size=\u001b[32m600\u001b[39m,\n\u001b[32m   (...)\u001b[39m\u001b[32m     14\u001b[39m                  font_color=\u001b[33m'\u001b[39m\u001b[33mwhite\u001b[39m\u001b[33m'\u001b[39m\n\u001b[32m     15\u001b[39m                 )\n",
      "\u001b[31mNameError\u001b[39m: name 'WG' is not defined"
     ]
    }
   ],
   "source": [
    "DG=nx.DiGraph()\n",
    "WG=nx.DiGraph()\n",
    "#DG.add_edges_from([('A', 'B'), ('A', 'C'), ('B', 'D'), ('B', 'E'), ('C', 'F'), ('C', 'G')])\n",
    "\n",
    "WG.add_edges_from([('A', 'B', {\"weight\": 10}), ('A', 'C', {\"weight\": 20}), ('B', 'D', {\"weight\": 30}), ('B', 'E', {\"weight\": 40}), ('C', 'F', {\"weight\": 50}), ('C', 'G', {\"weight\": 60})])\n",
    "\n",
    "\n",
    "labels = nx.get_edge_attributes(WG, \"weight\")\n",
    "plt.axis('off')\n",
    "nx.draw_networkx(DG,\n",
    "                 pos=nx.spring_layout(G, seed=0),\n",
    "                 node_size=600,\n",
    "                 cmap='coolwarm',\n",
    "                 font_size=14,\n",
    "                 font_color='white'\n",
    "                )"
   ]
  }
 ],
 "metadata": {
  "kernelspec": {
   "display_name": ".venv",
   "language": "python",
   "name": "python3"
  },
  "language_info": {
   "codemirror_mode": {
    "name": "ipython",
    "version": 3
   },
   "file_extension": ".py",
   "mimetype": "text/x-python",
   "name": "python",
   "nbconvert_exporter": "python",
   "pygments_lexer": "ipython3",
   "version": "3.12.3"
  }
 },
 "nbformat": 4,
 "nbformat_minor": 5
}
